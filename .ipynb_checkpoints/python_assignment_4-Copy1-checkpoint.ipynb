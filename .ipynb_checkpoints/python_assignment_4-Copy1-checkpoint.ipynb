{
 "cells": [
  {
   "cell_type": "code",
   "execution_count": null,
   "metadata": {},
   "outputs": [],
   "source": [
    "1.1 Write a Python Program(with class concepts) to find the area of the triangle using the below\n",
    "formula.\n"
   ]
  },
  {
   "cell_type": "code",
   "execution_count": 6,
   "metadata": {},
   "outputs": [
    {
     "name": "stdout",
     "output_type": "stream",
     "text": [
      "Enter the length of side1 of triangle: 5\n",
      "Enter the length of side2 of triangle: 4\n",
      "Enter the length of side3 of triangle: 3\n",
      "self.semiPerimete 6.0\n",
      "area of triangel is :  6.0\n"
     ]
    }
   ],
   "source": [
    "class TakeTringleParam:\n",
    "    def __init__(self):\n",
    "        self.side1Len = float(input(\"Enter the length of side1 of triangle: \"))\n",
    "        self.side2Len = float(input(\"Enter the length of side2 of triangle: \"))\n",
    "        self.side3Len = float(input(\"Enter the length of side3 of triangle: \"))\n",
    "        \n",
    "class Triangel(TakeTringleParam):\n",
    "    def __init__(self):\n",
    "        super().__init__()\n",
    "        self.semiPerimeter = self._semiPerimeter()\n",
    "        \n",
    "    def _semiPerimeter(self):\n",
    "        return (self.side1Len + self.side2Len + self.side3Len) / 2\n",
    "    \n",
    "    def area(self):\n",
    "        s = self.semiPerimeter\n",
    "        return (s * (s - self.side1Len) * (s - self.side2Len) * (s - self.side3Len)) ** 0.5\n",
    "        \n",
    "    \n",
    "triangel = Triangel();\n",
    "areaOfTriangel = triangel.area()\n",
    "\n",
    "print('area of triangel is : ', areaOfTriangel)"
   ]
  },
  {
   "cell_type": "code",
   "execution_count": 10,
   "metadata": {},
   "outputs": [
    {
     "name": "stdout",
     "output_type": "stream",
     "text": [
      "How many words you want to add in your list2\n",
      "Input your 1 word:sachin\n",
      "Input your 2 word:sarola\n",
      "['sachin', 'sarola']\n"
     ]
    }
   ],
   "source": [
    "class ListOfWord:\n",
    "    wordList = [] \n",
    "    def __init__(self):\n",
    "        lenOfList = int(input(\"How many words you want to add in your list\"))\n",
    "        self.maxSize = input(\"Input Maximum size of word: \")\n",
    "        for i in range(lenOfList):\n",
    "            word = input(\"Input your {} word:\".format(i+1))\n",
    "            self.wordList.append(word);\n",
    "            \n",
    "    def _isMaxSize(self, word):\n",
    "        return word.length > self.maxSize\n",
    "    \n",
    "    def filter_long_words(self):\n",
    "        self.longWordList = filter(self._isMaxSize, self.wordList)\n",
    "            \n",
    "ListOfWord = ListOfWord()\n",
    "\n",
    "ListOfWord.filter_long_words()\n",
    "\n",
    "print(ListOfWord.longWordList)\n",
    "    "
   ]
  },
  {
   "cell_type": "code",
   "execution_count": null,
   "metadata": {},
   "outputs": [],
   "source": []
  }
 ],
 "metadata": {
  "kernelspec": {
   "display_name": "Python 3",
   "language": "python",
   "name": "python3"
  },
  "language_info": {
   "codemirror_mode": {
    "name": "ipython",
    "version": 3
   },
   "file_extension": ".py",
   "mimetype": "text/x-python",
   "name": "python",
   "nbconvert_exporter": "python",
   "pygments_lexer": "ipython3",
   "version": "3.7.1"
  }
 },
 "nbformat": 4,
 "nbformat_minor": 2
}
