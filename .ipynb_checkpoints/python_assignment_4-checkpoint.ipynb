{
 "cells": [
  {
   "cell_type": "markdown",
   "metadata": {},
   "source": [
    "1.1 Write a Python Program(with class concepts) to find the area of the triangle using the below\n",
    "formula.\n",
    "area = (s*(s-a)*(s-b)*(s-c)) ** 0.5\n",
    "Function to take the length of the sides of triangle from user should be defined in the parent\n",
    "class and function to calculate the area should be defined in subclass.\n"
   ]
  },
  {
   "cell_type": "code",
   "execution_count": null,
   "metadata": {},
   "outputs": [],
   "source": [
    "class TakeTringleParam:\n",
    "    def __init__(self):\n",
    "        self.side1Len = float(input(\"Enter the length of side1 of triangle: \"))\n",
    "        self.side2Len = float(input(\"Enter the length of side2 of triangle: \"))\n",
    "        self.side3Len = float(input(\"Enter the length of side3 of triangle: \"))\n",
    "        \n",
    "class Triangel(TakeTringleParam):\n",
    "    def __init__(self):\n",
    "        super().__init__()\n",
    "        self.semiPerimeter = self._semiPerimeter()\n",
    "        \n",
    "    def _semiPerimeter(self):\n",
    "        return (self.side1Len + self.side2Len + self.side3Len) / 2\n",
    "    \n",
    "    def area(self):\n",
    "        s = self.semiPerimeter\n",
    "        return (s * (s - self.side1Len) * (s - self.side2Len) * (s - self.side3Len)) ** 0.5\n",
    "        \n",
    "    \n",
    "triangel = Triangel();\n",
    "areaOfTriangel = triangel.area()\n",
    "\n",
    "print('area of triangel is : ', areaOfTriangel)"
   ]
  },
  {
   "cell_type": "markdown",
   "metadata": {},
   "source": [
    "1.2 Write a function filter_long_words() that takes a list of words and an integer n and returns\n",
    "the list of words that are longer than n."
   ]
  },
  {
   "cell_type": "code",
   "execution_count": 1,
   "metadata": {},
   "outputs": [
    {
     "name": "stdout",
     "output_type": "stream",
     "text": [
      "How many words you want to add in your list: 3\n",
      "Input Maximum size of word: 5\n",
      "Input your 1 word:Sachin\n",
      "Input your 2 word:India\n",
      "Input your 3 word:Sarola\n",
      "['Sachin', 'India', 'Sarola']\n",
      "The word lists which has more than 5 characters are  ['Sachin', 'Sarola']\n"
     ]
    }
   ],
   "source": [
    "class ListOfWord:\n",
    "    def _isMaxSize(self, word):\n",
    "        return len(word) > self.maxSize\n",
    "    \n",
    "    def filter_long_words(self, list1, maxSize):\n",
    "        self.maxSize = maxSize\n",
    "        return filter(self._isMaxSize, list1)\n",
    "    \n",
    "    \n",
    "lenOfList = int(input(\"How many words you want to add in your list: \"))\n",
    "maxSize = int(input(\"Input Maximum size of word: \"))\n",
    "wordList = []\n",
    "    for i in range(lenOfList):\n",
    "        word = input(\"Input your {} word:\".format(i+1))\n",
    "        wordList.append(word);\n",
    "        \n",
    "ListOfWord = ListOfWord()\n",
    "\n",
    "ListOfWord.filter_long_words(wordList, maxSize)\n",
    "\n",
    "print(ListOfWord.wordList)\n",
    "print(\"The word lists which has more than {} characters are \".format(ListOfWord.maxSize), list(ListOfWord.longWordList))"
   ]
  },
  {
   "cell_type": "code",
   "execution_count": null,
   "metadata": {},
   "outputs": [],
   "source": []
  }
 ],
 "metadata": {
  "kernelspec": {
   "display_name": "Python 3",
   "language": "python",
   "name": "python3"
  },
  "language_info": {
   "codemirror_mode": {
    "name": "ipython",
    "version": 3
   },
   "file_extension": ".py",
   "mimetype": "text/x-python",
   "name": "python",
   "nbconvert_exporter": "python",
   "pygments_lexer": "ipython3",
   "version": "3.7.1"
  }
 },
 "nbformat": 4,
 "nbformat_minor": 2
}
