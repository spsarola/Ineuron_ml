{
 "cells": [
  {
   "cell_type": "markdown",
   "metadata": {},
   "source": [
    "1. Create the below pattern using nested for loop in Python."
   ]
  },
  {
   "cell_type": "code",
   "execution_count": 38,
   "metadata": {},
   "outputs": [
    {
     "name": "stdout",
     "output_type": "stream",
     "text": [
      "Enter number of star you want to see in the middle line: 5\n",
      "*\n",
      "**\n",
      "***\n",
      "****\n",
      "*****\n",
      "****\n",
      "***\n",
      "**\n",
      "*\n"
     ]
    }
   ],
   "source": [
    "no = int(input(\"Enter number of star you want to see in the middle line: \"))\n",
    "\n",
    "\n",
    "for i in range(1, no):\n",
    "    str = ''\n",
    "    for j in range(i):\n",
    "        str = str + '*';\n",
    "    print(str)\n",
    "\n",
    "for i in range(no, 0, -1):\n",
    "    str = ''\n",
    "    for j in range(i):\n",
    "        str = str + '*';\n",
    "    print(str)\n",
    "    \n",
    "# no = int(no) + 1\n",
    "        "
   ]
  },
  {
   "cell_type": "markdown",
   "metadata": {},
   "source": [
    "2. Write a Python program to reverse a word after accepting the input from the user."
   ]
  },
  {
   "cell_type": "code",
   "execution_count": 3,
   "metadata": {},
   "outputs": [
    {
     "name": "stdout",
     "output_type": "stream",
     "text": [
      "Enter your word: sachin\n",
      "The reverse order of your word is : nihcas\n"
     ]
    }
   ],
   "source": [
    "enteredWord = input(\"Enter your word: \")\n",
    "print(\"The reverse order of your word is :\", enteredWord[::-1])"
   ]
  },
  {
   "cell_type": "code",
   "execution_count": null,
   "metadata": {},
   "outputs": [],
   "source": []
  }
 ],
 "metadata": {
  "kernelspec": {
   "display_name": "Python 3",
   "language": "python",
   "name": "python3"
  },
  "language_info": {
   "codemirror_mode": {
    "name": "ipython",
    "version": 3
   },
   "file_extension": ".py",
   "mimetype": "text/x-python",
   "name": "python",
   "nbconvert_exporter": "python",
   "pygments_lexer": "ipython3",
   "version": "3.7.1"
  }
 },
 "nbformat": 4,
 "nbformat_minor": 2
}
