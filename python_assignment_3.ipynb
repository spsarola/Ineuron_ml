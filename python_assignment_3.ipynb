{
 "cells": [
  {
   "cell_type": "markdown",
   "metadata": {},
   "source": [
    "1.1 Write a Python Program to implement your own myreduce() function which works exactly\n",
    "like Python's built-in function reduce()"
   ]
  },
  {
   "cell_type": "code",
   "execution_count": 12,
   "metadata": {},
   "outputs": [
    {
     "name": "stdout",
     "output_type": "stream",
     "text": [
      "Factorial of 5:  120\n",
      "Max number from [100, 120, 90, 99, 1500, 121, 230] is: 1500\n"
     ]
    }
   ],
   "source": [
    "def myreduce(function, paramList):\n",
    "    a=paramList[0]\n",
    "    for i in range(1,len(paramList)):\n",
    "        b=paramList[i]\n",
    "        a=function(a,b)\n",
    "        \n",
    "    return a\n",
    "\n",
    "def mult(x,y):\n",
    "    #print(\"x=\",x,\" y=\",y)\n",
    "    return x*y\n",
    "\n",
    "fact = myreduce(mult, range(1,6))\n",
    "print ('Factorial of 5: ', fact)\n",
    "\n",
    "def maxNumber(a,b):\n",
    "    return  a if a > b else b \n",
    "\n",
    "list1 = [100, 120, 90, 99, 1500, 121, 230];\n",
    "maxNo = myreduce(maxNumber, list1)\n",
    "\n",
    "print('Max number from', list1, 'is:', maxNo)\n"
   ]
  },
  {
   "cell_type": "markdown",
   "metadata": {},
   "source": [
    "1.2 Write a Python program to implement your own myfilter() function which works exactly\n",
    "like Python's built-in function filter()"
   ]
  },
  {
   "cell_type": "code",
   "execution_count": 17,
   "metadata": {},
   "outputs": [
    {
     "name": "stdout",
     "output_type": "stream",
     "text": [
      "Even number list is :  [4, 6, 8, 5678, 890, 1234]\n",
      "The numbers multiples of 5 and 7 between 1 and 100 are  [35, 70]\n"
     ]
    }
   ],
   "source": [
    "def is_even(a):\n",
    "    if a%2==0:\n",
    "        return True\n",
    "    \n",
    "def multiples_of_5_7(a):\n",
    "    if a%5==0 and a%7==0:\n",
    "        return True\n",
    "    \n",
    "def myFilter(fn, paramList):\n",
    "    resultList = []\n",
    "    for i in range(1,len(paramList)):\n",
    "        if fn(paramList[i]):\n",
    "            resultList.append(paramList[i])\n",
    "    return resultList\n",
    " \n",
    "list_1=[2,3,4,5,6,7,8,9,12345,5678,890,1234,567]\n",
    "\n",
    "result = myFilter(is_even, list_1);\n",
    "\n",
    "print('Even number list is : ', result)\n",
    "\n",
    "result = myFilter(multiples_of_5_7, range(1,101));\n",
    "print('The numbers multiples of 5 and 7 between 1 and 100 are ', result)"
   ]
  },
  {
   "cell_type": "markdown",
   "metadata": {},
   "source": [
    "2. Implement List comprehensions to produce the following lists.\n",
    "   Write List comprehensions to produce the following Lists"
   ]
  },
  {
   "cell_type": "code",
   "execution_count": 25,
   "metadata": {},
   "outputs": [
    {
     "name": "stdout",
     "output_type": "stream",
     "text": [
      "ACADGILD => ['A', 'C', 'A', 'D', 'G', 'I', 'L', 'D']\n"
     ]
    }
   ],
   "source": [
    "## 1st list with comprehensions\n",
    "word = \"ACADGILD\"\n",
    "alphabetList = [ alphabet for alphabet in word ]\n",
    "print (\"ACADGILD => \" + str(alphabetList))"
   ]
  },
  {
   "cell_type": "code",
   "execution_count": 31,
   "metadata": {},
   "outputs": [
    {
     "name": "stdout",
     "output_type": "stream",
     "text": [
      "['x','y','z'] => ['x', 'xx', 'xxx', 'xxxx', 'y', 'yy', 'yyy', 'yyyy', 'z', 'zz', 'zzz', 'zzzz']\n"
     ]
    }
   ],
   "source": [
    "## 2nd list with comprehensions\n",
    "input_list = ['x','y','z']\n",
    "result = [ item*num for item in input_list for num in range(1,5)  ]\n",
    "print(\"['x','y','z'] => \" +   str(result))"
   ]
  },
  {
   "cell_type": "code",
   "execution_count": 22,
   "metadata": {},
   "outputs": [
    {
     "name": "stdout",
     "output_type": "stream",
     "text": [
      "['x','y','z'] => ['x', 'y', 'z', 'xx', 'yy', 'zz', 'xxx', 'yyy', 'zzz', 'xxxx', 'yyyy', 'zzzz']\n"
     ]
    }
   ],
   "source": [
    "## 3rd list with comprehensions\n",
    "input_list = ['x','y','z']\n",
    "result = [ item*num for num in range(1,5) for item in input_list]\n",
    "print(\"['x','y','z'] => \" +   str(result))"
   ]
  },
  {
   "cell_type": "code",
   "execution_count": 26,
   "metadata": {},
   "outputs": [
    {
     "name": "stdout",
     "output_type": "stream",
     "text": [
      "[2,3,4] =>[[2], [3], [4], [3], [4], [5], [4], [5], [6]]\n"
     ]
    }
   ],
   "source": [
    "## 4th list with comprehensions\n",
    "input_list = [1,2,3]\n",
    "result = [[item+num] for item in input_list for num in range(1,4)]\n",
    "print(\"[1,2,3] =>\" +  str(result))"
   ]
  },
  {
   "cell_type": "code",
   "execution_count": 29,
   "metadata": {},
   "outputs": [
    {
     "name": "stdout",
     "output_type": "stream",
     "text": [
      "[1,2,3] =>[[2, 3, 4, 5], [3, 4, 5, 6], [4, 5, 6, 7], [5, 6, 7, 8]]\n"
     ]
    }
   ],
   "source": [
    "## 5th list with comprehensions\n",
    "input_list = [1,2,3,4]\n",
    "result = [ [item+num for item in input_list] for num in range(1,5)  ]\n",
    "print(\"[1,2,3] =>\" +  str(result))"
   ]
  },
  {
   "cell_type": "code",
   "execution_count": 30,
   "metadata": {},
   "outputs": [
    {
     "name": "stdout",
     "output_type": "stream",
     "text": [
      "[1,2,3] =>[(1, 1), (2, 1), (3, 1), (1, 2), (2, 2), (3, 2), (1, 3), (2, 3), (3, 3)]\n"
     ]
    }
   ],
   "source": [
    "## 6th list with comprehensions\n",
    "input_list=[1,2,3]\n",
    "result = [ (b,a) for a in input_list for b in input_list]\n",
    "print(\"[1,2,3] =>\" +  str(result))"
   ]
  },
  {
   "cell_type": "code",
   "execution_count": null,
   "metadata": {},
   "outputs": [],
   "source": []
  }
 ],
 "metadata": {
  "kernelspec": {
   "display_name": "Python 3",
   "language": "python",
   "name": "python3"
  },
  "language_info": {
   "codemirror_mode": {
    "name": "ipython",
    "version": 3
   },
   "file_extension": ".py",
   "mimetype": "text/x-python",
   "name": "python",
   "nbconvert_exporter": "python",
   "pygments_lexer": "ipython3",
   "version": "3.7.1"
  }
 },
 "nbformat": 4,
 "nbformat_minor": 2
}
